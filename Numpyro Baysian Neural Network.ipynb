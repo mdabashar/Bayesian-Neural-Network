{
 "cells": [
  {
   "cell_type": "code",
   "execution_count": 1,
   "metadata": {},
   "outputs": [],
   "source": [
    "\"\"\"\n",
    "Source: https://pypi.org/project/numpyro/ \n\n",
    "We demonstrate how to use NUTS to do inference on a simple (small)\n",
    "Bayesian neural network with two hidden layers.\n",
    "\"\"\"\n",
    "\n",
    "import argparse\n",
    "\n",
    "import matplotlib\n",
    "import matplotlib.pyplot as plt\n",
    "import numpy as onp\n",
    "\n",
    "import jax.numpy as np\n",
    "import jax.random as random\n",
    "from jax import vmap\n",
    "from jax.config import config as jax_config\n",
    "\n",
    "import numpyro.distributions as dist\n",
    "from numpyro.handlers import sample, seed, substitute, trace\n",
    "from numpyro.hmc_util import initialize_model\n",
    "from numpyro.mcmc import mcmc\n"
   ]
  },
  {
   "cell_type": "code",
   "execution_count": 2,
   "metadata": {},
   "outputs": [],
   "source": [
    "matplotlib.use('Agg')  # noqa: E402"
   ]
  },
  {
   "cell_type": "code",
   "execution_count": 3,
   "metadata": {},
   "outputs": [],
   "source": [
    "# the non-linearity we use in our neural network\n",
    "def nonlin(x):\n",
    "    return np.tanh(x)"
   ]
  },
  {
   "cell_type": "code",
   "execution_count": 4,
   "metadata": {},
   "outputs": [],
   "source": [
    "# a two-layer bayesian neural network with computational flow\n",
    "# given by D_X => D_H => D_H => D_Y where D_H is the number of\n",
    "# hidden units. (note we indicate tensor dimensions in the comments)\n",
    "def model(X, Y, D_H):\n",
    "    D_X, D_Y = X.shape[1], 1\n",
    "\n",
    "    # sample first layer (we put unit normal priors on all weights)\n",
    "    w1 = sample(\"w1\", dist.Normal(np.zeros((D_X, D_H)), np.ones((D_X, D_H))))  # D_X D_H\n",
    "    z1 = nonlin(np.matmul(X, w1))   # N D_H  <= first layer of activations\n",
    "\n",
    "    # sample second layer\n",
    "    w2 = sample(\"w2\", dist.Normal(np.zeros((D_H, D_H)), np.ones((D_H, D_H))))  # D_H D_H\n",
    "    z2 = nonlin(np.matmul(z1, w2))  # N D_H  <= second layer of activations\n",
    "\n",
    "    # sample final layer of weights and neural network output\n",
    "    w3 = sample(\"w3\", dist.Normal(np.zeros((D_H, D_Y)), np.ones((D_H, D_Y))))  # D_H D_Y\n",
    "    z3 = np.matmul(z2, w3)  # N D_Y  <= output of the neural network\n",
    "\n",
    "    # we put a prior on the observation noise\n",
    "    prec_obs = sample(\"prec_obs\", dist.Gamma(3.0, 1.0))\n",
    "    sigma_obs = 1.0 / np.sqrt(prec_obs)\n",
    "\n",
    "    # observe data\n",
    "    sample(\"Y\", dist.Normal(z3, sigma_obs), obs=Y)"
   ]
  },
  {
   "cell_type": "code",
   "execution_count": 5,
   "metadata": {},
   "outputs": [],
   "source": [
    "# helper function for HMC inference\n",
    "def run_inference(model, args, rng, X, Y, D_H):\n",
    "    init_params, potential_fn, constrain_fn = initialize_model(rng, model, X, Y, D_H)\n",
    "    samples = mcmc(args.num_warmup, args.num_samples, init_params,\n",
    "                   sampler='hmc', potential_fn=potential_fn, constrain_fn=constrain_fn)\n",
    "    return samples"
   ]
  },
  {
   "cell_type": "code",
   "execution_count": 6,
   "metadata": {},
   "outputs": [],
   "source": [
    "# helper function for prediction\n",
    "def predict(model, rng, samples, X, D_H):\n",
    "    model = substitute(seed(model, rng), samples)\n",
    "    # note that Y will be sampled in the model because we pass Y=None here\n",
    "    model_trace = trace(model).get_trace(X=X, Y=None, D_H=D_H)\n",
    "    return model_trace['Y']['value']"
   ]
  },
  {
   "cell_type": "code",
   "execution_count": 7,
   "metadata": {},
   "outputs": [],
   "source": [
    "# create artificial regression dataset\n",
    "def get_data(N=50, D_X=3, sigma_obs=0.05, N_test=500):\n",
    "    D_Y = 1  # create 1d outputs\n",
    "    onp.random.seed(0)\n",
    "    X = np.linspace(-1, 1, N)\n",
    "    X = np.power(X[:, onp.newaxis], np.arange(D_X))\n",
    "    W = 0.5 * onp.random.randn(D_X)\n",
    "    Y = np.dot(X, W) + 0.5 * np.power(0.5 + X[:, 1], 2.0) * np.sin(4.0 * X[:, 1])\n",
    "    Y += sigma_obs * onp.random.randn(N)\n",
    "    Y = Y[:, onp.newaxis]\n",
    "    Y -= np.mean(Y)\n",
    "    Y /= np.std(Y)\n",
    "\n",
    "    assert X.shape == (N, D_X)\n",
    "    assert Y.shape == (N, D_Y)\n",
    "\n",
    "    X_test = np.linspace(-1.3, 1.3, N_test)\n",
    "    X_test = np.power(X_test[:, onp.newaxis], np.arange(D_X))\n",
    "\n",
    "    return X, Y, X_test"
   ]
  },
  {
   "cell_type": "code",
   "execution_count": 22,
   "metadata": {},
   "outputs": [],
   "source": [
    "def main(args):\n",
    "    jax_config.update('jax_platform_name', args.device)\n",
    "    N, D_X, D_H = args.num_data, 3, args.num_hidden\n",
    "    X, Y, X_test = get_data(N=N, D_X=D_X)\n",
    "\n",
    "    # do inference\n",
    "    rng, rng_predict = random.split(random.PRNGKey(0))\n",
    "    samples = run_inference(model, args, rng, X, Y, D_H)\n",
    "\n",
    "    # predict Y_test at inputs X_test\n",
    "    vmap_args = (samples, random.split(rng_predict, args.num_samples))\n",
    "    predictions = vmap(lambda samples, rng: predict(model, rng, samples, X_test, D_H))(*vmap_args)\n",
    "    predictions = predictions[..., 0]\n",
    "\n",
    "    # compute mean prediction and confidence interval around median\n",
    "    mean_prediction = np.mean(predictions, axis=0)\n",
    "    percentiles = onp.percentile(predictions, [5.0, 95.0], axis=0)\n",
    "\n",
    "    # make plots\n",
    "    fig, ax = plt.subplots(1, 1)\n",
    "\n",
    "    # plot training data\n",
    "    ax.plot(X[:, 1], Y[:, 0], 'kx')\n",
    "    # plot 90% confidence level of predictions\n",
    "    ax.fill_between(X_test[:, 1], percentiles[0, :], percentiles[1, :], color='lightblue')\n",
    "    # plot mean prediction\n",
    "    ax.plot(X_test[:, 1], mean_prediction, 'blue', ls='solid', lw=2.0)\n",
    "    ax.set(xlabel=\"X\", ylabel=\"Y\", title=\"Mean predictions with 90% CI\")\n",
    "\n",
    "    plt.savefig('bnn_plot.pdf')\n",
    "    plt.savefig('bnn_plot.png')\n",
    "    plt.close()"
   ]
  },
  {
   "cell_type": "code",
   "execution_count": 23,
   "metadata": {},
   "outputs": [
    {
     "name": "stderr",
     "output_type": "stream",
     "text": [
      "warmup: 100%|██████████| 1000/1000 [01:01<00:00, 16.16it/s, 1023 steps of size 3.40e-03. acc. prob=0.79]\n",
      "sample: 100%|██████████| 2000/2000 [01:29<00:00, 22.41it/s, 1023 steps of size 3.40e-03. acc. prob=0.89]\n"
     ]
    },
    {
     "name": "stdout",
     "output_type": "stream",
     "text": [
      "\n",
      "\n",
      "                           mean         sd       5.5%      94.5%      n_eff       Rhat\n",
      "            prec_obs      18.26       2.74      13.89      22.52    2031.29       1.00\n",
      "             w1[0,0]      -0.07       1.14      -1.85       1.78     189.61       1.00\n",
      "             w1[0,1]       0.12       1.24      -1.90       1.99     232.99       1.01\n",
      "             w1[0,2]      -0.14       1.13      -2.03       1.65     242.62       1.00\n",
      "             w1[0,3]       0.03       1.16      -1.69       2.00     143.76       1.01\n",
      "             w1[0,4]      -0.04       1.05      -1.78       1.65     184.47       1.01\n",
      "             w1[1,0]       0.01       1.15      -1.89       1.65     234.22       1.00\n",
      "             w1[1,1]      -0.16       1.12      -1.79       1.65     270.98       1.00\n",
      "             w1[1,2]       0.19       1.14      -1.66       1.77     157.92       1.00\n",
      "             w1[1,3]       0.03       1.17      -1.72       1.77     161.02       1.03\n",
      "             w1[1,4]       0.02       1.19      -1.86       1.77     128.53       1.01\n",
      "             w1[2,0]       0.07       1.15      -1.56       2.04     183.40       1.00\n",
      "             w1[2,1]      -0.16       1.08      -2.02       1.42     237.08       1.00\n",
      "             w1[2,2]       0.15       1.14      -1.50       2.08     120.40       1.01\n",
      "             w1[2,3]      -0.05       1.18      -1.87       1.81     164.25       1.02\n",
      "             w1[2,4]       0.02       1.17      -1.83       1.89     161.89       1.00\n",
      "             w2[0,0]      -0.04       1.04      -1.74       1.54    1096.81       1.00\n",
      "             w2[0,1]      -0.03       1.08      -1.70       1.77    1119.87       1.00\n",
      "             w2[0,2]      -0.05       1.07      -1.66       1.68     717.86       1.00\n",
      "             w2[0,3]      -0.09       1.08      -1.83       1.52     975.78       1.00\n",
      "             w2[0,4]      -0.01       1.06      -1.63       1.71    1109.92       1.00\n",
      "             w2[1,0]       0.01       1.10      -1.59       1.87     912.07       1.00\n",
      "             w2[1,1]      -0.01       1.06      -1.69       1.64     806.86       1.00\n",
      "             w2[1,2]      -0.02       1.09      -1.82       1.61     689.64       1.00\n",
      "             w2[1,3]       0.02       1.11      -1.70       1.71     736.86       1.00\n",
      "             w2[1,4]       0.01       1.07      -1.70       1.64    1022.12       1.00\n",
      "             w2[2,0]      -0.04       1.08      -1.70       1.67     798.30       1.00\n",
      "             w2[2,1]       0.02       1.09      -1.69       1.79     756.00       1.00\n",
      "             w2[2,2]      -0.05       1.09      -1.87       1.63     507.81       1.00\n",
      "             w2[2,3]       0.04       1.10      -1.65       1.80     754.50       1.00\n",
      "             w2[2,4]      -0.08       1.07      -1.84       1.51     986.08       1.00\n",
      "             w2[3,0]      -0.04       1.08      -1.93       1.50     743.13       1.00\n",
      "             w2[3,1]       0.08       1.07      -1.49       1.84     749.79       1.01\n",
      "             w2[3,2]      -0.07       1.08      -1.70       1.69     846.42       1.00\n",
      "             w2[3,3]      -0.00       1.11      -1.73       1.81     776.46       1.00\n",
      "             w2[3,4]      -0.07       1.07      -1.85       1.54     712.47       1.00\n",
      "             w2[4,0]      -0.03       1.06      -1.67       1.65     981.23       1.00\n",
      "             w2[4,1]      -0.01       1.08      -1.75       1.66     834.42       1.00\n",
      "             w2[4,2]      -0.02       1.04      -1.63       1.65     861.02       1.00\n",
      "             w2[4,3]       0.03       1.07      -1.64       1.70     868.24       1.00\n",
      "             w2[4,4]       0.07       1.07      -1.57       1.84    1064.99       1.00\n",
      "             w3[0,0]       0.05       1.51      -2.27       2.45     338.18       1.00\n",
      "             w3[1,0]      -0.04       1.54      -2.49       2.41     313.91       1.01\n",
      "             w3[2,0]       0.07       1.54      -2.25       2.72     342.74       1.00\n",
      "             w3[3,0]       0.05       1.51      -2.34       2.45     335.00       1.00\n",
      "             w3[4,0]      -0.09       1.42      -2.56       1.96     348.14       1.00\n"
     ]
    }
   ],
   "source": [
    "parser = argparse.ArgumentParser(description=\"Bayesian neural network example\")\n",
    "parser.add_argument(\"-n\", \"--num-samples\", nargs=\"?\", default=2000, type=int)\n",
    "parser.add_argument(\"--num-warmup\", nargs='?', default=1000, type=int)\n",
    "parser.add_argument(\"--num-data\", nargs='?', default=100, type=int)\n",
    "parser.add_argument(\"--num-hidden\", nargs='?', default=5, type=int)\n",
    "parser.add_argument(\"--device\", default='cpu', type=str, help='use \"cpu\" or \"gpu\".')\n",
    "parser.add_argument(\"-f\", \"--fff\", help=\"a dummy argument to fool ipython\", default=\"1\")\n",
    "args = parser.parse_args()\n",
    "\n",
    "\n",
    "main(args)\n"
   ]
  },
  {
   "cell_type": "code",
   "execution_count": 27,
   "metadata": {},
   "outputs": [
    {
     "data": {
      "image/png": "[encoded data removed]",
      "text/plain": [
       "<IPython.core.display.Image object>"
      ]
     },
     "execution_count": 27,
     "metadata": {},
     "output_type": "execute_result"
    }
   ],
   "source": [
    "from IPython.display import Image\n",
    "Image('bnn_plot.png')"
   ]
  }
 ],
 "metadata": {
  "kernelspec": {
   "display_name": "Python 3",
   "language": "python",
   "name": "python3"
  },
  "language_info": {
   "codemirror_mode": {
    "name": "ipython",
    "version": 3
   },
   "file_extension": ".py",
   "mimetype": "text/x-python",
   "name": "python",
   "nbconvert_exporter": "python",
   "pygments_lexer": "ipython3",
   "version": "3.7.3"
  }
 },
 "nbformat": 4,
 "nbformat_minor": 2
}
